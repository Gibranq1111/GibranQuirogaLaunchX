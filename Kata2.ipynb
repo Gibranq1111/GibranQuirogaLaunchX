{
 "cells": [
  {
   "cell_type": "markdown",
   "metadata": {},
   "source": [
    "# Kata 2"
   ]
  },
  {
   "cell_type": "code",
   "execution_count": 1,
   "metadata": {},
   "outputs": [
    {
     "name": "stdout",
     "output_type": "stream",
     "text": [
      "2022-02-14 17:42:46.026686\n",
      "2022-03-21 10:42:46.026686\n"
     ]
    }
   ],
   "source": [
    "  from datetime import *\n",
    "  from dateutil.relativedelta import *\n",
    "  now = datetime.now()\n",
    "  print(now)\n",
    "\n",
    "  now = now + relativedelta(months=1, weeks=1, hour=10)\n",
    "\n",
    "  print(now)"
   ]
  }
 ],
 "metadata": {
  "interpreter": {
   "hash": "2be5faf79681da6f2a61fdfdd5405d65d042280f7fba6178067603e3a2925119"
  },
  "kernelspec": {
   "display_name": "Python 3.10.2 64-bit",
   "language": "python",
   "name": "python3"
  },
  "language_info": {
   "codemirror_mode": {
    "name": "ipython",
    "version": 3
   },
   "file_extension": ".py",
   "mimetype": "text/x-python",
   "name": "python",
   "nbconvert_exporter": "python",
   "pygments_lexer": "ipython3",
   "version": "3.10.2"
  },
  "orig_nbformat": 4
 },
 "nbformat": 4,
 "nbformat_minor": 2
}
