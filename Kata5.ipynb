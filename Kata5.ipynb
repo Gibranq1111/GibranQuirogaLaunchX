{
 "cells": [
  {
   "cell_type": "markdown",
   "metadata": {},
   "source": [
    "# Distancia entre planetas"
   ]
  },
  {
   "cell_type": "code",
   "execution_count": 7,
   "metadata": {},
   "outputs": [
    {
     "name": "stdout",
     "output_type": "stream",
     "text": [
      "La distancia entre la Tierra y Júpiter es:  628949330 km\n"
     ]
    }
   ],
   "source": [
    "tierra = int(149597870)\n",
    "jupiter = int(778547200)\n",
    "\n",
    "distancia = jupiter - tierra\n",
    "print('La distancia entre la Tierra y Júpiter es: ', abs(distancia), 'km')"
   ]
  },
  {
   "cell_type": "markdown",
   "metadata": {},
   "source": [
    "# Distancia con el SoL"
   ]
  },
  {
   "cell_type": "code",
   "execution_count": 15,
   "metadata": {},
   "outputs": [
    {
     "name": "stdout",
     "output_type": "stream",
     "text": [
      "La distancia del primer planeta al sol en millas es:  12.42  millas\n",
      "La distancia del segundo planeta al sol en millas es:  24.84  millas \n",
      "\n",
      "La distancia entre planetas es:  12.42  millas\n"
     ]
    }
   ],
   "source": [
    "distPLanet1 = int(input('Ingrese la distancia del primer planeta'))\n",
    "distPLanet2 = int(input('Ingrese la distancia del segundo planeta'))\n",
    "\n",
    "print('La distancia del primer planeta al sol en millas es: ', abs(distPLanet1 * 0.621), ' millas')\n",
    "print('La distancia del segundo planeta al sol en millas es: ', abs(distPLanet2 * 0.621), ' millas \\n')\n",
    "print('La distancia entre planetas es: ', round(abs((distPLanet1* 0.621) - (distPLanet2* 0.621)),2), ' millas')"
   ]
  }
 ],
 "metadata": {
  "interpreter": {
   "hash": "2be5faf79681da6f2a61fdfdd5405d65d042280f7fba6178067603e3a2925119"
  },
  "kernelspec": {
   "display_name": "Python 3.10.2 64-bit",
   "language": "python",
   "name": "python3"
  },
  "language_info": {
   "codemirror_mode": {
    "name": "ipython",
    "version": 3
   },
   "file_extension": ".py",
   "mimetype": "text/x-python",
   "name": "python",
   "nbconvert_exporter": "python",
   "pygments_lexer": "ipython3",
   "version": "3.10.2"
  },
  "orig_nbformat": 4
 },
 "nbformat": 4,
 "nbformat_minor": 2
}
