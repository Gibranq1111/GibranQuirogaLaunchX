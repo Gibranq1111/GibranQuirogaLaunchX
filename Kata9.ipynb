{
 "cells": [
  {
   "cell_type": "markdown",
   "metadata": {},
   "source": [
    "# Combustible de la nave"
   ]
  },
  {
   "cell_type": "code",
   "execution_count": 5,
   "metadata": {},
   "outputs": [
    {
     "name": "stdout",
     "output_type": "stream",
     "text": [
      "Reporte de compbustible:\n",
      "    Combustible total: 78%\n",
      "    Hidrogeno: 80%\n",
      "    Oxigeno: 70%\n",
      "    Externo: 85% \n",
      "    \n"
     ]
    }
   ],
   "source": [
    "def reporte(hidrogeno, oxigeno, externo):\n",
    "    combTotal = round((hidrogeno + oxigeno + externo) / 3)\n",
    "    return f\"\"\"Reporte de compbustible:\n",
    "    Combustible total: {combTotal}%\n",
    "    Hidrogeno: {hidrogeno}%\n",
    "    Oxigeno: {oxigeno}%\n",
    "    Externo: {externo}% \n",
    "    \"\"\"\n",
    "\n",
    "print(reporte(80, 70, 85))"
   ]
  },
  {
   "cell_type": "markdown",
   "metadata": {},
   "source": [
    "# Función promedio"
   ]
  },
  {
   "cell_type": "code",
   "execution_count": 11,
   "metadata": {},
   "outputs": [
    {
     "name": "stdout",
     "output_type": "stream",
     "text": [
      "El promedio por tipo de combustible es:  71.0\n"
     ]
    }
   ],
   "source": [
    "def reporte(hidrogeno, oxigeno, externo):\n",
    "    combTotal = round((hidrogeno + oxigeno + externo) / 3)\n",
    "    return f\"\"\"Reporte de compbustible:\n",
    "    Combustible total: {combTotal}%\n",
    "    Hidrogeno: {hidrogeno}%\n",
    "    Oxigeno: {oxigeno}%\n",
    "    Externo: {externo}% \n",
    "    \"\"\"\n",
    "\n",
    "def promedio(values):\n",
    "    total = sum(values)\n",
    "    totalRecursos = len(values)\n",
    "    return total / totalRecursos\n",
    "\n",
    "\n",
    "print('El promedio por tipo de combustible es: ', promedio([92, 89, 32]) )"
   ]
  },
  {
   "cell_type": "markdown",
   "metadata": {},
   "source": [
    "# Actualizar función"
   ]
  },
  {
   "cell_type": "code",
   "execution_count": 16,
   "metadata": {},
   "outputs": [
    {
     "name": "stdout",
     "output_type": "stream",
     "text": [
      "Reporte de compbustible:\n",
      "    Promedio de combustible: 40%\n",
      "    Hidrogeno: 35%\n",
      "    Oxigeno: 65%\n",
      "    Externo: 19% \n",
      "    \n"
     ]
    }
   ],
   "source": [
    "def reporte(hidrogeno, oxigeno, externo):\n",
    "    return f\"\"\"Reporte de compbustible:\n",
    "    Promedio de combustible: {round(promedio([hidrogeno, oxigeno, externo]))}%\n",
    "    Hidrogeno: {hidrogeno}%\n",
    "    Oxigeno: {oxigeno}%\n",
    "    Externo: {externo}% \n",
    "    \"\"\"\n",
    "\n",
    "\n",
    "print(reporte(35, 65, 19))"
   ]
  },
  {
   "cell_type": "markdown",
   "metadata": {},
   "source": [
    "# Reporte de misión ejercicio 2"
   ]
  },
  {
   "cell_type": "code",
   "execution_count": 2,
   "metadata": {},
   "outputs": [
    {
     "name": "stdout",
     "output_type": "stream",
     "text": [
      "\n",
      "    Msisión a Jupiter\n",
      "    Tiempo total de viaje: 5 años luz\n",
      "    Combustible: 500000 galones\n",
      "    \n"
     ]
    }
   ],
   "source": [
    "def reporteMision(tiempoInicio, tiempoArribo, destino, tanqueExterno, tanquePrincipal):\n",
    "    return f\"\"\"\n",
    "    Msisión a {destino}\n",
    "    Tiempo total de viaje: {tiempoInicio + tiempoArribo} años luz\n",
    "    Combustible: {tanqueExterno + tanquePrincipal} galones\n",
    "    \"\"\"\n",
    "\n",
    "print(reporteMision(3, 2, \"Jupiter\", 200000, 300000))"
   ]
  },
  {
   "cell_type": "markdown",
   "metadata": {},
   "source": [
    "# Modificar Función"
   ]
  },
  {
   "cell_type": "code",
   "execution_count": 4,
   "metadata": {},
   "outputs": [
    {
     "name": "stdout",
     "output_type": "stream",
     "text": [
      "\n",
      "    Msisión a Neptuno\n",
      "    Tiempo total de viaje:  52 años\n",
      "    Combustible Restante: 500000\n",
      "    \n"
     ]
    }
   ],
   "source": [
    "def reporteMision(destino, *anos, **combustible,):\n",
    "    return f\"\"\"\n",
    "    Msisión a {destino}\n",
    "    Tiempo total de viaje:  {sum(anos)} años\n",
    "    Combustible Restante: {sum(combustible.values())}\n",
    "    \"\"\"\n",
    "\n",
    "print(reporteMision(\"Neptuno\", 12, 9, 31, tanquePrincipal=15500, tanqueExterno=18000))"
   ]
  },
  {
   "cell_type": "markdown",
   "metadata": {},
   "source": [
    "# Última Función"
   ]
  },
  {
   "cell_type": "code",
   "execution_count": 29,
   "metadata": {},
   "outputs": [
    {
     "name": "stdout",
     "output_type": "stream",
     "text": [
      "\n",
      "    Misión a Marte\n",
      "    Tiempo total de viaje:  42 años\n",
      "    Combustible Restante: 33500\n",
      "    tanquePrincipal tanque --> 15500 galones restantes\n",
      "tanqueExterno tanque --> 18000 galones restantes\n",
      "\n"
     ]
    }
   ],
   "source": [
    "def reporteMision(destino, *anos, **combustible,):\n",
    "    reportePrincipal = f\"\"\"\n",
    "    Misión a {destino}\n",
    "    Tiempo total de viaje:  {sum(anos)} años\n",
    "    Combustible Restante: {sum(combustible.values())}\n",
    "    \"\"\"\n",
    "    for nombreTanque, galones in combustible.items():\n",
    "        reportePrincipal += f\"{nombreTanque} tanque --> {galones} galones restantes\\n\"\n",
    "    return reportePrincipal\n",
    "\n",
    "print(reporteMision(\"Marte\", 2, 9, 31, tanquePrincipal=15500, tanqueExterno=18000))\n"
   ]
  }
 ],
 "metadata": {
  "interpreter": {
   "hash": "2be5faf79681da6f2a61fdfdd5405d65d042280f7fba6178067603e3a2925119"
  },
  "kernelspec": {
   "display_name": "Python 3.10.2 64-bit",
   "language": "python",
   "name": "python3"
  },
  "language_info": {
   "codemirror_mode": {
    "name": "ipython",
    "version": 3
   },
   "file_extension": ".py",
   "mimetype": "text/x-python",
   "name": "python",
   "nbconvert_exporter": "python",
   "pygments_lexer": "ipython3",
   "version": "3.10.2"
  },
  "orig_nbformat": 4
 },
 "nbformat": 4,
 "nbformat_minor": 2
}
