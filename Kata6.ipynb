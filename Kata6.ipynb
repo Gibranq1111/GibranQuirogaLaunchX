{
 "cells": [
  {
   "cell_type": "markdown",
   "metadata": {},
   "source": [
    "# ¡A darle con las listas!"
   ]
  },
  {
   "cell_type": "code",
   "execution_count": 14,
   "metadata": {},
   "outputs": [
    {
     "name": "stdout",
     "output_type": "stream",
     "text": [
      "El número de planetas es den el sistema solar sin contar a Plutón es  8\n",
      "En el sistema solar contamos con  9 de planetas al incuir a Plutón.\n",
      "['Asdfa', 'Jupiter', 'Marte', 'Mercurio', 'Neptuno', 'Plutón', 'Saturno', 'Tierra', 'Urano', 'Venus']\n",
      "El último planeta de la lista es:  Venus\n",
      "El toltal de planetas es 10\n"
     ]
    }
   ],
   "source": [
    "planetas = ['Mercurio', 'Venus', 'Tierra', 'Marte', 'Jupiter', 'Saturno', 'Urano', 'Neptuno']\n",
    "print('El número de planetas es den el sistema solar sin contar a Plutón es ', len(planetas))\n",
    "\n",
    "planetas.append('Plutón')\n",
    "numPlanetas = len(planetas)\n",
    "print('En el sistema solar contamos con ', numPlanetas, 'de planetas al incuir a Plutón.')\n",
    "\n",
    "nvoPlaneta = input('Ingrese el nombre del planeta')\n",
    "nvoPlanetaMin= nvoPlaneta.lower()\n",
    "planetas.append(nvoPlanetaMin.capitalize())\n",
    "planetas.sort()\n",
    "print(planetas)\n",
    "print('El último planeta de la lista es: ', planetas[-1])\n",
    "print('El toltal de planetas es', len(planetas))\n"
   ]
  },
  {
   "cell_type": "markdown",
   "metadata": {},
   "source": [
    "# Ejercicio 2 Trabajando con datos de una lista"
   ]
  },
  {
   "cell_type": "code",
   "execution_count": 37,
   "metadata": {},
   "outputs": [
    {
     "name": "stdout",
     "output_type": "stream",
     "text": [
      "El planeta que ingresaste se encuentra antes de Venus y despúes de  Jupiter\n"
     ]
    }
   ],
   "source": [
    "planetas = ['Mercurio', 'Venus', 'Tierra', 'Marte', 'Jupiter', 'Saturno', 'Urano', 'Neptuno']\n",
    "nvoPlaneta = input('Ingrese el nombre del planeta')\n",
    "nvoPlanetaMin= nvoPlaneta.lower()\n",
    "nvoPlanetaCap = nvoPlanetaMin.capitalize()\n",
    "planetas.append(nvoPlanetaCap)\n",
    "planetas.sort()\n",
    "\n",
    "planetaUsuarioIndex= planetas.index(nvoPlanetaCap)\n",
    "print('El planeta que ingresaste se encuentra antes de' , planetas[planetaUsuarioIndex + 1], 'y despúes de ', planetas[planetaUsuarioIndex - 1])\n",
    "\n"
   ]
  }
 ],
 "metadata": {
  "interpreter": {
   "hash": "2be5faf79681da6f2a61fdfdd5405d65d042280f7fba6178067603e3a2925119"
  },
  "kernelspec": {
   "display_name": "Python 3.10.2 64-bit",
   "language": "python",
   "name": "python3"
  },
  "language_info": {
   "codemirror_mode": {
    "name": "ipython",
    "version": 3
   },
   "file_extension": ".py",
   "mimetype": "text/x-python",
   "name": "python",
   "nbconvert_exporter": "python",
   "pygments_lexer": "ipython3",
   "version": "3.10.2"
  },
  "orig_nbformat": 4
 },
 "nbformat": 4,
 "nbformat_minor": 2
}
