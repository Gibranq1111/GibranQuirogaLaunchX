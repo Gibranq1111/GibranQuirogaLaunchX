{
 "cells": [
  {
   "cell_type": "markdown",
   "metadata": {},
   "source": [
    "# Adveretencia de asteroide"
   ]
  },
  {
   "cell_type": "code",
   "execution_count": 2,
   "metadata": {},
   "outputs": [
    {
     "name": "stdout",
     "output_type": "stream",
     "text": [
      "Cuidado colisión con asteroide a gran velocidad\n"
     ]
    }
   ],
   "source": [
    "velAsteroide = 49\n",
    "if velAsteroide >= 20:\n",
    "    print('!Cuidado colisión con asteroide a gran velocidad!')\n",
    "else:\n",
    "    print('Asteroides no amenazantes')\n",
    "    "
   ]
  },
  {
   "cell_type": "markdown",
   "metadata": {},
   "source": [
    "# A mirar el asteroide "
   ]
  },
  {
   "cell_type": "code",
   "execution_count": 3,
   "metadata": {},
   "outputs": [
    {
     "name": "stdout",
     "output_type": "stream",
     "text": [
      "El cielo esta despejado\n"
     ]
    }
   ],
   "source": [
    "asteroide = 19\n",
    "if asteroide > 30:\n",
    "    print('Mira, pide un deseo')\n",
    "elif asteroide == 25:\n",
    "    print('Podría ser una estrella fugaz')\n",
    "else:\n",
    "    print('El cielo esta despejado')"
   ]
  },
  {
   "cell_type": "markdown",
   "metadata": {},
   "source": [
    "# Asteroides amenazantes o insignificantes"
   ]
  },
  {
   "cell_type": "code",
   "execution_count": 8,
   "metadata": {},
   "outputs": [
    {
     "name": "stdout",
     "output_type": "stream",
     "text": [
      "Estamos en peligro, informa a la defensa nacional\n"
     ]
    }
   ],
   "source": [
    "velAsteroide = int(input(\"Introduzca la velocidad del asteroide en kilometros \"));\n",
    "tamAsteroide = int(input(\"Introduzca el tamaño del asteroide en metros\"));\n",
    "\n",
    "if velAsteroide <=30 and tamAsteroide <=199:\n",
    "    print('Mira ese asteroide se desintegrará al entrar a la capa de ozono')\n",
    "elif velAsteroide <=30 and tamAsteroide >=199:\n",
    "    print('¡Mira un asteroide lento pero es muy grande hay que destruirlo!')\n",
    "elif velAsteroide >=30 and tamAsteroide <=199:\n",
    "    print('Un pequeño asteroide que lleva gran velocidad')\n",
    "else: \n",
    "    print('¡Estamos en peligro, informa a la defensa nacional!')"
   ]
  }
 ],
 "metadata": {
  "interpreter": {
   "hash": "2be5faf79681da6f2a61fdfdd5405d65d042280f7fba6178067603e3a2925119"
  },
  "kernelspec": {
   "display_name": "Python 3.10.2 64-bit",
   "language": "python",
   "name": "python3"
  },
  "language_info": {
   "codemirror_mode": {
    "name": "ipython",
    "version": 3
   },
   "file_extension": ".py",
   "mimetype": "text/x-python",
   "name": "python",
   "nbconvert_exporter": "python",
   "pygments_lexer": "ipython3",
   "version": "3.10.2"
  },
  "orig_nbformat": 4
 },
 "nbformat": 4,
 "nbformat_minor": 2
}
